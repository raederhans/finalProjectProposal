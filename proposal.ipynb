{
 "cells": [
  {
   "cell_type": "code",
   "execution_count": 1,
   "id": "86c1e236-af0f-4da1-892a-d1506f9f886e",
   "metadata": {},
   "outputs": [
    {
     "ename": "SyntaxError",
     "evalue": "invalid syntax (1427189197.py, line 1)",
     "output_type": "error",
     "traceback": [
      "\u001b[1;36m  Cell \u001b[1;32mIn[1], line 1\u001b[1;36m\u001b[0m\n\u001b[1;33m    Page 1:\u001b[0m\n\u001b[1;37m         ^\u001b[0m\n\u001b[1;31mSyntaxError\u001b[0m\u001b[1;31m:\u001b[0m invalid syntax\n"
     ]
    }
   ],
   "source": [
    "Page 1:\n",
    "Final Project Proposal: Exploring the Relationship Between\n",
    "Crime, Housing, and Demographics in Philadelphia\n",
    "\n",
    "Overview\n",
    "This project aims to analyze the relationship between crime rates, crime types (and their\n",
    "timing), housing prices, and racial demographics in Philadelphia. The goal is to\n",
    "determine if patterns exist between these variables and whether factors like racial\n",
    "distribution or housing characteristics are linked to crime rates or specific crime types.\n",
    "The analysis will include a focus on when crimes are most likely to occur (e.g., time of\n",
    "day, week, or year) to uncover temporal trends in criminal activity.\n",
    "\n",
    "Data Sets\n",
    "1.\n",
    "Crime Data:- Source: Open Data Philly Crime Incident API\n",
    "2.\n",
    "Housing Data: - Source: Zillow API\n",
    "3.\n",
    "Demographic Data: - Source:Census API\n",
    "4.\n",
    "Geographic Data - Source: OpenData Philly, and probaly course material\n",
    "\n",
    "Research Questions\n",
    "1. Is there a correlation between crime rates and racial demographics in Philadelphia?\n",
    "2. Do certain crime types have stronger links to housing prices or characteristics?\n",
    "3. Are there temporal patterns in criminal activity that vary by crime type?\n",
    "\n",
    "Analysis Methods and Techniques\n",
    "Mostly will be: API web scraping, Data cleaning, Geopandas, Vector Data processing\n",
    "Clustering Analysis, Probably some sci-kit learning, Large Data visualization\n",
    "\n",
    "How the Project Satisfies the Requirements\n",
    "1. Data Integration (Requirement 3):\n",
    "- The project integrates data from at least three distinct sources, including crime data,\n",
    "housing data, and demographic data.\n",
    "2. Analysis Complexity (Requirement 4):\n",
    "- The analysis involves multiple steps, such as geospatial joins, temporal aggregation,\n",
    "and regression modeling.\n",
    "3. Temporal and Spatial Analysis (Requirement 4):\n",
    "- The project incorporates both spatial and temporal analyses to examine crime\n",
    "patterns, housing characteristics, and racial distributions.\n",
    "4. Interactive Visualizations (Requirement 10):\n",
    "- The deliverable will include interactive visualizations that allow users to explore\n",
    "spatial and temporal trends in the data dynamically."
   ]
  }
 ],
 "metadata": {
  "kernelspec": {
   "display_name": "Python 3 (ipykernel)",
   "language": "python",
   "name": "python3"
  },
  "language_info": {
   "codemirror_mode": {
    "name": "ipython",
    "version": 3
   },
   "file_extension": ".py",
   "mimetype": "text/x-python",
   "name": "python",
   "nbconvert_exporter": "python",
   "pygments_lexer": "ipython3",
   "version": "3.10.12"
  }
 },
 "nbformat": 4,
 "nbformat_minor": 5
}
